{
 "cells": [
  {
   "cell_type": "code",
   "execution_count": 1,
   "id": "623907f5",
   "metadata": {},
   "outputs": [
    {
     "name": "stdout",
     "output_type": "stream",
     "text": [
      "After tokenization of the External C file:\n",
      "\n",
      "['#', 'include', '<', 'stdio.h', '>', '#', 'include', '<', 'stdlib.h', '>', 'int', 'main', '(', ')', '{', 'int', 'i=0', ';', 'if', '(', 'i', '>', '0', ')', '{', 'printf', '(', '``', 'Test', 'Cases', '!', '``', ')', ';', '}', 'else', '{', 'exit', '(', '0', ')', ';', '}', '}'] \n",
      "\n"
     ]
    },
    {
     "ename": "NameError",
     "evalue": "name 'CondCounter' is not defined",
     "output_type": "error",
     "traceback": [
      "\u001b[1;31m---------------------------------------------------------------------------\u001b[0m",
      "\u001b[1;31mNameError\u001b[0m                                 Traceback (most recent call last)",
      "Input \u001b[1;32mIn [1]\u001b[0m, in \u001b[0;36m<cell line: 27>\u001b[1;34m()\u001b[0m\n\u001b[0;32m     28\u001b[0m     \u001b[38;5;28;01mif\u001b[39;00m tokens[i]\u001b[38;5;241m==\u001b[39m\u001b[38;5;124m'\u001b[39m\u001b[38;5;124mif\u001b[39m\u001b[38;5;124m'\u001b[39m:\n\u001b[0;32m     29\u001b[0m         \u001b[38;5;28;01mfor\u001b[39;00m j \u001b[38;5;129;01min\u001b[39;00m \u001b[38;5;28mrange\u001b[39m(i\u001b[38;5;241m+\u001b[39m\u001b[38;5;241m1\u001b[39m,n):\n\u001b[1;32m---> 30\u001b[0m             \u001b[38;5;28;01mif\u001b[39;00m \u001b[43meval_cond\u001b[49m\u001b[43m(\u001b[49m\u001b[43mtokens\u001b[49m\u001b[43m[\u001b[49m\u001b[43mj\u001b[49m\u001b[43m]\u001b[49m\u001b[43m)\u001b[49m\u001b[38;5;241m==\u001b[39m \u001b[38;5;28;01mFalse\u001b[39;00m:\n\u001b[0;32m     31\u001b[0m                 Condition\u001b[38;5;241m.\u001b[39mappend(tokens[j])\n\u001b[0;32m     32\u001b[0m                 \u001b[38;5;66;03m# print('token: ',tokens[j])\u001b[39;00m\n\u001b[0;32m     33\u001b[0m                 \u001b[38;5;66;03m# print('condition: ',Condition)\u001b[39;00m\n\u001b[0;32m     34\u001b[0m             \u001b[38;5;28;01melse\u001b[39;00m:\n\u001b[0;32m     35\u001b[0m \u001b[38;5;66;03m#                 print(eval_cond(tokens[j]))\u001b[39;00m\n",
      "Input \u001b[1;32mIn [1]\u001b[0m, in \u001b[0;36meval_cond\u001b[1;34m(x)\u001b[0m\n\u001b[0;32m     17\u001b[0m \u001b[38;5;28;01mglobal\u001b[39;00m CondCounter\n\u001b[0;32m     18\u001b[0m \u001b[38;5;28;01mif\u001b[39;00m x \u001b[38;5;241m==\u001b[39m\u001b[38;5;124m'\u001b[39m\u001b[38;5;124m(\u001b[39m\u001b[38;5;124m'\u001b[39m:\n\u001b[1;32m---> 19\u001b[0m     CondCounter\u001b[38;5;241m+\u001b[39m\u001b[38;5;241m=\u001b[39m\u001b[38;5;241m1\u001b[39m\n\u001b[0;32m     20\u001b[0m \u001b[38;5;28;01melif\u001b[39;00m x\u001b[38;5;241m==\u001b[39m\u001b[38;5;124m'\u001b[39m\u001b[38;5;124m)\u001b[39m\u001b[38;5;124m'\u001b[39m:\n\u001b[0;32m     21\u001b[0m     CondCounter\u001b[38;5;241m-\u001b[39m\u001b[38;5;241m=\u001b[39m\u001b[38;5;241m1\u001b[39m\n",
      "\u001b[1;31mNameError\u001b[0m: name 'CondCounter' is not defined"
     ]
    }
   ],
   "source": [
    "import nltk\n",
    "import re\n",
    "with open('C:/Users/91629/OneDrive/Desktop/7th_SEM_proj_NLTK/custom_Input.c', 'r') as file:\n",
    "    c_code = file.read()\n",
    "tokens=nltk.word_tokenize(c_code)\n",
    "n=len(tokens)\n",
    "print('After tokenization of the External C file:\\n')\n",
    "print(tokens,'\\n')\n",
    "maxval=2**31-1\n",
    "minval=-2**31\n",
    "Condition=[]\n",
    "\n",
    "c_operators = ['>','<','==','+', '-', '', '/', '%', '++', '--', '=', '+=', '-=', '=', '/=', '%=', '==', '!=', '<', '>', '<=', '>=', '!', '&&', '||', '&', '|', '^', '~', '<<', '>>', '&=', '|=', '^=', '<<=', '>>=', ',', '.', '->', '[', ']', '{', '}', ';', ':', '?']\n",
    "\n",
    "\n",
    "def eval_cond(x):\n",
    "    global CondCounter\n",
    "    if x =='(':\n",
    "        CondCounter+=1\n",
    "    elif x==')':\n",
    "        CondCounter-=1\n",
    "    elif CondCounter==0:\n",
    "        return True\n",
    "    return False\n",
    "\n",
    "\n",
    "for i in range(n):\n",
    "    if tokens[i]=='if':\n",
    "        for j in range(i+1,n):\n",
    "            if eval_cond(tokens[j])== False:\n",
    "                Condition.append(tokens[j])\n",
    "                # print('token: ',tokens[j])\n",
    "                # print('condition: ',Condition)\n",
    "            else:\n",
    "#                 print(eval_cond(tokens[j]))\n",
    "                break;\n",
    "\n",
    "            \n",
    "print('Conditional statements Identified: \\n\\n\\t', Condition)\n",
    "possible_test_cases=[]\n",
    "for i in range(len(Condition)):\n",
    "    if Condition[i] in c_operators :\n",
    "        val=(int)(Condition[i+1])\n",
    "        possible_test_cases.append([val,maxval])\n",
    "        possible_test_cases.append([minval,val])\n",
    "        possible_test_cases.append([val])\n",
    "print(\"\\nPossible Range of Test Cases Identified: \\n\\n\\t\",possible_test_cases)\n",
    "        \n",
    "\n",
    "print('\\nInternal Test cases Identified:\\n\\t')\n",
    "for i in range(1,len(Condition)-1):\n",
    "    print(Condition[i],\" \", end=\"\")\n",
    "    \n",
    "print('')\n",
    "    \n",
    "print('\\nPossible Test cases Identified: \\n\\t')\n",
    "for i in range(1,len(Condition)-1):\n",
    "    if Condition[i] == '>':\n",
    "        print(c_operators[1],\" \", end=\"\")\n",
    "    else:\n",
    "        print(Condition[i],\" \", end=\"\")\n",
    "\n",
    "print('')        \n",
    "\n",
    "for i in range(1,len(Condition)-1):\n",
    "    if Condition[i] == '>':\n",
    "        print(c_operators[2],\" \", end=\"\")\n",
    "    else:\n",
    "        print(Condition[i],\" \", end=\"\")"
   ]
  },
  {
   "cell_type": "code",
   "execution_count": null,
   "id": "a7986053",
   "metadata": {},
   "outputs": [],
   "source": []
  },
  {
   "cell_type": "code",
   "execution_count": null,
   "id": "1d57eaac",
   "metadata": {},
   "outputs": [],
   "source": []
  },
  {
   "cell_type": "code",
   "execution_count": null,
   "id": "e41bf85f",
   "metadata": {},
   "outputs": [],
   "source": []
  },
  {
   "cell_type": "code",
   "execution_count": null,
   "id": "54e3a44c",
   "metadata": {},
   "outputs": [],
   "source": []
  },
  {
   "cell_type": "code",
   "execution_count": null,
   "id": "769779ce",
   "metadata": {},
   "outputs": [],
   "source": []
  },
  {
   "cell_type": "code",
   "execution_count": null,
   "id": "62974346",
   "metadata": {},
   "outputs": [],
   "source": []
  }
 ],
 "metadata": {
  "kernelspec": {
   "display_name": "Python 3 (ipykernel)",
   "language": "python",
   "name": "python3"
  },
  "language_info": {
   "codemirror_mode": {
    "name": "ipython",
    "version": 3
   },
   "file_extension": ".py",
   "mimetype": "text/x-python",
   "name": "python",
   "nbconvert_exporter": "python",
   "pygments_lexer": "ipython3",
   "version": "3.10.1"
  }
 },
 "nbformat": 4,
 "nbformat_minor": 5
}
