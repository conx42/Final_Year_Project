{
 "cells": [
  {
   "cell_type": "code",
   "execution_count": 2,
   "id": "5f6d6873",
   "metadata": {},
   "outputs": [
    {
     "name": "stdout",
     "output_type": "stream",
     "text": [
      "After tokenization of the External C file:\n",
      "\n",
      "['#', 'include', '<', 'stdio.h', '>', '#', 'include', '<', 'stdlib.h', '>', 'int', 'main', '(', ')', '{', 'int', 'i=0', ';', 'int', 'j=9', ';', 'int', 'k=100', ';', 'int', 'l=-102', ';', 'int', 'x=99', ';', 'int', 'y=11', ',', 'w=0', ',', 'p=78', ',', 'z=1', ',', 'a=0', ';', 'if', '(', 'i', '>', '0', ')', '{', 'printf', '(', '``', 'Test', 'Cases', '!', '``', ')', ';', 'if', '(', 'x', '>', '99', ')', '{', 'if', '(', 'y', '<', '100', ')', '{', 'printf', '(', '``', 'print', \"''\", ')', ';', '}', '}', '}', 'else', '{', 'exit', '(', '0', ')', ';', '}', 'if', '(', 'j', '>', '0', ')', '{', 'if', '(', 'k', '>', '100', ')', '{', 'if', '(', 'l', '>', '1', ')', '{', 'printf', '(', '``', 'Taking', 'Nested', 'Loop', '!', '``', ')', ';', '}', '}', '}', 'printf', '(', '``', 'opk', \"''\", ')', ';', 'if', '(', 'w', '<', '0', ')', '{', 'printf', '(', '``', 'Test', \"''\", ')', ';', 'printf', '(', '``', 'Test', \"''\", ')', ';', 'printf', '(', '``', 'Test', \"''\", ')', ';', 'printf', '(', '``', 'Test', \"''\", ')', ';', 'a+=1', ';', 'p-=0', ';', 'if', '(', 'p', '>', '0', ')', '{', 'printf', '(', '``', 'Test', \"''\", ')', ';', 'if', '(', 'z', '<', '0', ')', '{', 'if', '(', 'a', '>', '10', ')', '{', 'exit', '(', '0', ')', ';', '}', '}', '}', '}', '}'] \n",
      "\n"
     ]
    }
   ],
   "source": [
    "import nltk\n",
    "with open('C:/Users/91629/OneDrive/Desktop/7th_SEM_proj_NLTK/custom_Input.c', 'r') as file:\n",
    "    c_code = file.read()\n",
    "tokens=nltk.word_tokenize(c_code)\n",
    "n=len(tokens)\n",
    "print('After tokenization of the External C file:\\n')\n",
    "print(tokens,'\\n')"
   ]
  },
  {
   "cell_type": "code",
   "execution_count": null,
   "id": "d522db4e",
   "metadata": {},
   "outputs": [],
   "source": []
  }
 ],
 "metadata": {
  "kernelspec": {
   "display_name": "Python 3 (ipykernel)",
   "language": "python",
   "name": "python3"
  },
  "language_info": {
   "codemirror_mode": {
    "name": "ipython",
    "version": 3
   },
   "file_extension": ".py",
   "mimetype": "text/x-python",
   "name": "python",
   "nbconvert_exporter": "python",
   "pygments_lexer": "ipython3",
   "version": "3.10.1"
  }
 },
 "nbformat": 4,
 "nbformat_minor": 5
}
